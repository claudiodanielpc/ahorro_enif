{
 "cells": [
  {
   "cell_type": "code",
   "execution_count": 3,
   "id": "3bd81513",
   "metadata": {
    "vscode": {
     "languageId": "r"
    }
   },
   "outputs": [
    {
     "name": "stderr",
     "output_type": "stream",
     "text": [
      "Cargando paquete requerido: pacman\n",
      "\n"
     ]
    }
   ],
   "source": [
    "rm(list=ls())\n",
    "\n",
    "if(!require('pacman')) install.packages('pacman')\n",
    "pacman::p_load(tidyverse, srvyr,showtext)\n",
    "#Fuente para los gráficos\n",
    "font_add_google(\"Poppins\", \"pop\")\n",
    "showtext_auto()"
   ]
  },
  {
   "cell_type": "code",
   "execution_count": 4,
   "id": "8d579873",
   "metadata": {
    "vscode": {
     "languageId": "r"
    }
   },
   "outputs": [],
   "source": [
    "#Crear directorio para guardar los archivos\n",
    "dir.create(\"enif\", showWarnings = FALSE)"
   ]
  },
  {
   "cell_type": "code",
   "execution_count": 5,
   "id": "ea230bea",
   "metadata": {
    "vscode": {
     "languageId": "r"
    }
   },
   "outputs": [],
   "source": [
    "url<-\"https://www.inegi.org.mx/contenidos/programas/enif/2024/datosabiertos/conjunto_de_datos_enif_2024_csv.zip\"\n",
    "temp <- tempfile()\n",
    "download.file(url,\n",
    "              mode = \"wb\",\n",
    "              destfile = temp)\n",
    "unzip(temp, exdir = \"enif\")\n",
    "unlink(temp)"
   ]
  },
  {
   "cell_type": "code",
   "execution_count": 6,
   "id": "c4f27b39",
   "metadata": {
    "vscode": {
     "languageId": "r"
    }
   },
   "outputs": [
    {
     "data": {
      "text/html": [
       "<table class=\"dataframe\">\n",
       "<caption>A tibble: 10 × 9</caption>\n",
       "<thead>\n",
       "\t<tr><th scope=col>llavehog</th><th scope=col>llaveviv</th><th scope=col>p2_8</th><th scope=col>folio</th><th scope=col>viv_sel</th><th scope=col>hogar</th><th scope=col>est_dis</th><th scope=col>upm_dis</th><th scope=col>fac_hog</th></tr>\n",
       "\t<tr><th scope=col>&lt;chr&gt;</th><th scope=col>&lt;chr&gt;</th><th scope=col>&lt;dbl&gt;</th><th scope=col>&lt;dbl&gt;</th><th scope=col>&lt;dbl&gt;</th><th scope=col>&lt;dbl&gt;</th><th scope=col>&lt;dbl&gt;</th><th scope=col>&lt;dbl&gt;</th><th scope=col>&lt;dbl&gt;</th></tr>\n",
       "</thead>\n",
       "<tbody>\n",
       "\t<tr><td>00001011</td><td>0000101</td><td>1</td><td> 1</td><td> 1</td><td>1</td><td> 17</td><td> 196</td><td> 633</td></tr>\n",
       "\t<tr><td>00002101</td><td>0000210</td><td>1</td><td> 2</td><td>10</td><td>1</td><td>179</td><td>2088</td><td>1811</td></tr>\n",
       "\t<tr><td>00003031</td><td>0000303</td><td>2</td><td> 3</td><td> 3</td><td>1</td><td> 50</td><td> 763</td><td> 485</td></tr>\n",
       "\t<tr><td>00004011</td><td>0000401</td><td>1</td><td> 4</td><td> 1</td><td>1</td><td> 17</td><td> 182</td><td> 739</td></tr>\n",
       "\t<tr><td>00005031</td><td>0000503</td><td>1</td><td> 5</td><td> 3</td><td>1</td><td> 49</td><td> 631</td><td>3756</td></tr>\n",
       "\t<tr><td>00006031</td><td>0000603</td><td>0</td><td> 6</td><td> 3</td><td>1</td><td> 40</td><td> 459</td><td>4568</td></tr>\n",
       "\t<tr><td>00007041</td><td>0000704</td><td>0</td><td> 7</td><td> 4</td><td>1</td><td>111</td><td>1380</td><td>3726</td></tr>\n",
       "\t<tr><td>00008031</td><td>0000803</td><td>2</td><td> 8</td><td> 3</td><td>1</td><td>135</td><td>1585</td><td>1797</td></tr>\n",
       "\t<tr><td>00009041</td><td>0000904</td><td>2</td><td> 9</td><td> 4</td><td>1</td><td>107</td><td>1297</td><td>3504</td></tr>\n",
       "\t<tr><td>00010041</td><td>0001004</td><td>1</td><td>10</td><td> 4</td><td>1</td><td> 11</td><td> 136</td><td>2692</td></tr>\n",
       "</tbody>\n",
       "</table>\n"
      ],
      "text/latex": [
       "A tibble: 10 × 9\n",
       "\\begin{tabular}{lllllllll}\n",
       " llavehog & llaveviv & p2\\_8 & folio & viv\\_sel & hogar & est\\_dis & upm\\_dis & fac\\_hog\\\\\n",
       " <chr> & <chr> & <dbl> & <dbl> & <dbl> & <dbl> & <dbl> & <dbl> & <dbl>\\\\\n",
       "\\hline\n",
       "\t 00001011 & 0000101 & 1 &  1 &  1 & 1 &  17 &  196 &  633\\\\\n",
       "\t 00002101 & 0000210 & 1 &  2 & 10 & 1 & 179 & 2088 & 1811\\\\\n",
       "\t 00003031 & 0000303 & 2 &  3 &  3 & 1 &  50 &  763 &  485\\\\\n",
       "\t 00004011 & 0000401 & 1 &  4 &  1 & 1 &  17 &  182 &  739\\\\\n",
       "\t 00005031 & 0000503 & 1 &  5 &  3 & 1 &  49 &  631 & 3756\\\\\n",
       "\t 00006031 & 0000603 & 0 &  6 &  3 & 1 &  40 &  459 & 4568\\\\\n",
       "\t 00007041 & 0000704 & 0 &  7 &  4 & 1 & 111 & 1380 & 3726\\\\\n",
       "\t 00008031 & 0000803 & 2 &  8 &  3 & 1 & 135 & 1585 & 1797\\\\\n",
       "\t 00009041 & 0000904 & 2 &  9 &  4 & 1 & 107 & 1297 & 3504\\\\\n",
       "\t 00010041 & 0001004 & 1 & 10 &  4 & 1 &  11 &  136 & 2692\\\\\n",
       "\\end{tabular}\n"
      ],
      "text/markdown": [
       "\n",
       "A tibble: 10 × 9\n",
       "\n",
       "| llavehog &lt;chr&gt; | llaveviv &lt;chr&gt; | p2_8 &lt;dbl&gt; | folio &lt;dbl&gt; | viv_sel &lt;dbl&gt; | hogar &lt;dbl&gt; | est_dis &lt;dbl&gt; | upm_dis &lt;dbl&gt; | fac_hog &lt;dbl&gt; |\n",
       "|---|---|---|---|---|---|---|---|---|\n",
       "| 00001011 | 0000101 | 1 |  1 |  1 | 1 |  17 |  196 |  633 |\n",
       "| 00002101 | 0000210 | 1 |  2 | 10 | 1 | 179 | 2088 | 1811 |\n",
       "| 00003031 | 0000303 | 2 |  3 |  3 | 1 |  50 |  763 |  485 |\n",
       "| 00004011 | 0000401 | 1 |  4 |  1 | 1 |  17 |  182 |  739 |\n",
       "| 00005031 | 0000503 | 1 |  5 |  3 | 1 |  49 |  631 | 3756 |\n",
       "| 00006031 | 0000603 | 0 |  6 |  3 | 1 |  40 |  459 | 4568 |\n",
       "| 00007041 | 0000704 | 0 |  7 |  4 | 1 | 111 | 1380 | 3726 |\n",
       "| 00008031 | 0000803 | 2 |  8 |  3 | 1 | 135 | 1585 | 1797 |\n",
       "| 00009041 | 0000904 | 2 |  9 |  4 | 1 | 107 | 1297 | 3504 |\n",
       "| 00010041 | 0001004 | 1 | 10 |  4 | 1 |  11 |  136 | 2692 |\n",
       "\n"
      ],
      "text/plain": [
       "   llavehog llaveviv p2_8 folio viv_sel hogar est_dis upm_dis fac_hog\n",
       "1  00001011 0000101  1     1     1      1      17      196     633   \n",
       "2  00002101 0000210  1     2    10      1     179     2088    1811   \n",
       "3  00003031 0000303  2     3     3      1      50      763     485   \n",
       "4  00004011 0000401  1     4     1      1      17      182     739   \n",
       "5  00005031 0000503  1     5     3      1      49      631    3756   \n",
       "6  00006031 0000603  0     6     3      1      40      459    4568   \n",
       "7  00007041 0000704  0     7     4      1     111     1380    3726   \n",
       "8  00008031 0000803  2     8     3      1     135     1585    1797   \n",
       "9  00009041 0000904  2     9     4      1     107     1297    3504   \n",
       "10 00010041 0001004  1    10     4      1      11      136    2692   "
      ]
     },
     "metadata": {},
     "output_type": "display_data"
    }
   ],
   "source": [
    "##Hogares\n",
    "hogares <- read_csv(\n",
    "  \"enif/conjunto_de_datos_thogar_enif_2024/conjunto_de_datos/conjunto_de_datos_thogar_enif2024.csv\",\n",
    "  col_types = cols(\n",
    "    llaveviv = col_character(),\n",
    "    llavehog = col_character()\n",
    "  )\n",
    ") %>%\n",
    "  mutate(\n",
    "    llaveviv = str_pad(llaveviv, width = 7, side = \"left\", pad = \"0\"),\n",
    "    llavehog = str_pad(llavehog, width = 8, side = \"left\", pad = \"0\")\n",
    "  )\n",
    "\n",
    "  head(hogares,10)\n"
   ]
  },
  {
   "cell_type": "code",
   "execution_count": 37,
   "id": "f38625ac",
   "metadata": {
    "vscode": {
     "languageId": "r"
    }
   },
   "outputs": [
    {
     "name": "stderr",
     "output_type": "stream",
     "text": [
      "Warning message:\n",
      "\"\u001b[1m\u001b[22mOne or more parsing issues, call `problems()` on your data frame for details,\n",
      "e.g.:\n",
      "  dat <- vroom(...)\n",
      "  problems(dat)\"\n",
      "\u001b[1mRows: \u001b[22m\u001b[34m13502\u001b[39m \u001b[1mColumns: \u001b[22m\u001b[34m398\u001b[39m\n",
      "\u001b[36m──\u001b[39m \u001b[1mColumn specification\u001b[22m \u001b[36m────────────────────────────────────────────────────────\u001b[39m\n",
      "\u001b[1mDelimiter:\u001b[22m \",\"\n",
      "\u001b[31mchr\u001b[39m  (23): llavemod, llaveviv, llavehog, niv, p3_11a, p3_15_epc, p3_15_muc, ...\n",
      "\u001b[32mdbl\u001b[39m (373): edad_v, gra, p3_1a, p3_2, p3_3, p3_4, p3_5_1, p3_5_2, p3_5_3, p3_...\n",
      "\u001b[33mlgl\u001b[39m   (2): p6_4_3, p6_4_9\n",
      "\n",
      "\u001b[36mℹ\u001b[39m Use `spec()` to retrieve the full column specification for this data.\n",
      "\u001b[36mℹ\u001b[39m Specify the column types or set `show_col_types = FALSE` to quiet this message.\n"
     ]
    }
   ],
   "source": [
    "#Datos de ahorro por persona\n",
    "\n",
    "modulo<-read_csv(\"enif/conjunto_de_datos_tmodulo_enif_2024/conjunto_de_datos/conjunto_de_datos_tmodulo_enif2024.csv\")%>%\n",
    "janitor::clean_names()%>%\n",
    "#Clasificación por tipo de ahorro\n",
    "##Ahorro informal\n",
    "mutate(ahorro_inf=case_when( \n",
    "(p5_1_1 == 1 | p5_1_2==1 | p5_1_3==1 | p5_1_4==1 | p5_1_5==1 | p5_1_6==1 ) ~ 1,\n",
    "TRUE ~ 0),\n",
    "## Ahorro formal\n",
    "ahorro_form=case_when((p5_6_1==1 | p5_6_2==1 | p5_6_3==1 | p5_6_4==1 | p5_6_5==1 | p5_6_6==1 | p5_6_7==1 | p5_6_8==1 | p5_6_9==1 \n",
    ") ~ 1,\n",
    "TRUE ~ 0),\n",
    "##Ahorra, ya sea de manera formal o informal\n",
    "accion_ahorro=case_when(ahorro_form==1 | ahorro_inf==1 ~ 1,TRUE ~ 0),\n",
    "#Clasificación por tiempo de cobertura de gastos\n",
    "cubre_gastos=\n",
    "case_when(p4_10==1 ~ \"Menos de una semana/ No tiene ahorros\",\n",
    "p4_10==2 ~ \"Al menos una semana, pero menos de un mes\",\n",
    "p4_10==3 ~ \"Al menos un mes, pero menos de tres meses\",\n",
    "p4_10==4 ~ \"Al menos tres meses, pero menos de seis meses\",\n",
    "p4_10==5 ~ \"Seis meses o más\",\n",
    "p4_10==8 ~ \"No responde\",\n",
    "p5_10==9 ~ \"No sabe\",\n",
    "TRUE ~ \"No aplica\"),\n",
    "\n",
    "#Equivalencia de ahorro en ingreso\n",
    "equivalencia=\n",
    "case_when(p5_3== 1 ~ \"una semana\",\n",
    "p5_3== 2 ~ \"una quincena\",\n",
    "p5_3== 3 ~ \"un mes\",\n",
    "p5_3== 4 ~ \"más de un mes\",\n",
    "TRUE ~ \"No sabe/No contestó\"\n",
    "\n",
    "),\n",
    "cond_ocup=case_when(\n",
    "  (p3_8==1 | p3_8==2) ~ \"Ocupada\",\n",
    "  (p3_8==3 | p3_8==4) ~ \"Desocupada\",\n",
    "  TRUE ~ \"No economicamente activa\"\n",
    "))"
   ]
  },
  {
   "cell_type": "code",
   "execution_count": 38,
   "id": "0e181669",
   "metadata": {
    "vscode": {
     "languageId": "r"
    }
   },
   "outputs": [],
   "source": [
    "#Diseño muestral\n",
    "dmpers<-modulo%>%\n",
    "as_survey_design(ids = \"upm_dis\",\n",
    "            weights = \"fac_per\",\n",
    "            strata=\"est_dis\")"
   ]
  },
  {
   "cell_type": "code",
   "execution_count": 43,
   "id": "e0f13db6",
   "metadata": {
    "vscode": {
     "languageId": "r"
    }
   },
   "outputs": [
    {
     "data": {
      "text/html": [
       "<table class=\"dataframe\">\n",
       "<caption>A tibble: 2 × 5</caption>\n",
       "<thead>\n",
       "\t<tr><th scope=col>cond_ocup</th><th scope=col>personas</th><th scope=col>personas_cv</th><th scope=col>pct</th><th scope=col>pct_cv</th></tr>\n",
       "\t<tr><th scope=col>&lt;chr&gt;</th><th scope=col>&lt;dbl&gt;</th><th scope=col>&lt;dbl&gt;</th><th scope=col>&lt;dbl&gt;</th><th scope=col>&lt;dbl&gt;</th></tr>\n",
       "</thead>\n",
       "<tbody>\n",
       "\t<tr><td>Desocupada</td><td> 1140014</td><td>0.11235121</td><td> 1.83</td><td>0.111043472</td></tr>\n",
       "\t<tr><td>Ocupada   </td><td>61059661</td><td>0.01357363</td><td>98.17</td><td>0.002073236</td></tr>\n",
       "</tbody>\n",
       "</table>\n"
      ],
      "text/latex": [
       "A tibble: 2 × 5\n",
       "\\begin{tabular}{lllll}\n",
       " cond\\_ocup & personas & personas\\_cv & pct & pct\\_cv\\\\\n",
       " <chr> & <dbl> & <dbl> & <dbl> & <dbl>\\\\\n",
       "\\hline\n",
       "\t Desocupada &  1140014 & 0.11235121 &  1.83 & 0.111043472\\\\\n",
       "\t Ocupada    & 61059661 & 0.01357363 & 98.17 & 0.002073236\\\\\n",
       "\\end{tabular}\n"
      ],
      "text/markdown": [
       "\n",
       "A tibble: 2 × 5\n",
       "\n",
       "| cond_ocup &lt;chr&gt; | personas &lt;dbl&gt; | personas_cv &lt;dbl&gt; | pct &lt;dbl&gt; | pct_cv &lt;dbl&gt; |\n",
       "|---|---|---|---|---|\n",
       "| Desocupada |  1140014 | 0.11235121 |  1.83 | 0.111043472 |\n",
       "| Ocupada    | 61059661 | 0.01357363 | 98.17 | 0.002073236 |\n",
       "\n"
      ],
      "text/plain": [
       "  cond_ocup  personas personas_cv pct   pct_cv     \n",
       "1 Desocupada  1140014 0.11235121   1.83 0.111043472\n",
       "2 Ocupada    61059661 0.01357363  98.17 0.002073236"
      ]
     },
     "metadata": {},
     "output_type": "display_data"
    }
   ],
   "source": [
    "dmpers%>%\n",
    "filter(cond_ocup!=\"No economicamente activa\")%>%\n",
    "group_by(cond_ocup)%>%\n",
    "summarise(personas=survey_total(vartype = \"cv\"),\n",
    "pct=survey_prop(vartype = \"cv\"))%>%\n",
    "mutate(pct=round(pct*100,2))"
   ]
  },
  {
   "cell_type": "code",
   "execution_count": 9,
   "id": "6e57cec9",
   "metadata": {
    "vscode": {
     "languageId": "r"
    }
   },
   "outputs": [
    {
     "data": {
      "text/html": [
       "<table class=\"dataframe\">\n",
       "<caption>A tibble: 1 × 2</caption>\n",
       "<thead>\n",
       "\t<tr><th scope=col>personas</th><th scope=col>personas_cv</th></tr>\n",
       "\t<tr><th scope=col>&lt;dbl&gt;</th><th scope=col>&lt;dbl&gt;</th></tr>\n",
       "</thead>\n",
       "<tbody>\n",
       "\t<tr><td>94221441</td><td>0.009911919</td></tr>\n",
       "</tbody>\n",
       "</table>\n"
      ],
      "text/latex": [
       "A tibble: 1 × 2\n",
       "\\begin{tabular}{ll}\n",
       " personas & personas\\_cv\\\\\n",
       " <dbl> & <dbl>\\\\\n",
       "\\hline\n",
       "\t 94221441 & 0.009911919\\\\\n",
       "\\end{tabular}\n"
      ],
      "text/markdown": [
       "\n",
       "A tibble: 1 × 2\n",
       "\n",
       "| personas &lt;dbl&gt; | personas_cv &lt;dbl&gt; |\n",
       "|---|---|\n",
       "| 94221441 | 0.009911919 |\n",
       "\n"
      ],
      "text/plain": [
       "  personas personas_cv\n",
       "1 94221441 0.009911919"
      ]
     },
     "metadata": {},
     "output_type": "display_data"
    }
   ],
   "source": [
    "#Total de personas de 18 años y más\n",
    "dmpers%>%\n",
    "summarise(personas=survey_total(vartype = \"cv\"))"
   ]
  },
  {
   "cell_type": "code",
   "execution_count": 10,
   "id": "0282123d",
   "metadata": {
    "vscode": {
     "languageId": "r"
    }
   },
   "outputs": [
    {
     "data": {
      "text/html": [
       "<table class=\"dataframe\">\n",
       "<caption>A tabyl: 3 × 5</caption>\n",
       "<thead>\n",
       "\t<tr><th scope=col>accion_ahorro</th><th scope=col>personas</th><th scope=col>personas_cv</th><th scope=col>pct</th><th scope=col>pct_cv</th></tr>\n",
       "\t<tr><th scope=col>&lt;chr&gt;</th><th scope=col>&lt;dbl&gt;</th><th scope=col>&lt;dbl&gt;</th><th scope=col>&lt;dbl&gt;</th><th scope=col>&lt;dbl&gt;</th></tr>\n",
       "</thead>\n",
       "<tbody>\n",
       "\t<tr><td>0    </td><td>33723779</td><td>0.01988659</td><td> 35.8</td><td>0.01767772</td></tr>\n",
       "\t<tr><td>1    </td><td>60497662</td><td>0.01427815</td><td> 64.2</td><td>0.00985426</td></tr>\n",
       "\t<tr><td>Total</td><td>94221441</td><td>0.03416474</td><td>100.0</td><td>0.02753198</td></tr>\n",
       "</tbody>\n",
       "</table>\n"
      ],
      "text/latex": [
       "A tabyl: 3 × 5\n",
       "\\begin{tabular}{lllll}\n",
       " accion\\_ahorro & personas & personas\\_cv & pct & pct\\_cv\\\\\n",
       " <chr> & <dbl> & <dbl> & <dbl> & <dbl>\\\\\n",
       "\\hline\n",
       "\t 0     & 33723779 & 0.01988659 &  35.8 & 0.01767772\\\\\n",
       "\t 1     & 60497662 & 0.01427815 &  64.2 & 0.00985426\\\\\n",
       "\t Total & 94221441 & 0.03416474 & 100.0 & 0.02753198\\\\\n",
       "\\end{tabular}\n"
      ],
      "text/markdown": [
       "\n",
       "A tabyl: 3 × 5\n",
       "\n",
       "| accion_ahorro &lt;chr&gt; | personas &lt;dbl&gt; | personas_cv &lt;dbl&gt; | pct &lt;dbl&gt; | pct_cv &lt;dbl&gt; |\n",
       "|---|---|---|---|---|\n",
       "| 0     | 33723779 | 0.01988659 |  35.8 | 0.01767772 |\n",
       "| 1     | 60497662 | 0.01427815 |  64.2 | 0.00985426 |\n",
       "| Total | 94221441 | 0.03416474 | 100.0 | 0.02753198 |\n",
       "\n"
      ],
      "text/plain": [
       "  accion_ahorro personas personas_cv pct   pct_cv    \n",
       "1 0             33723779 0.01988659   35.8 0.01767772\n",
       "2 1             60497662 0.01427815   64.2 0.00985426\n",
       "3 Total         94221441 0.03416474  100.0 0.02753198"
      ]
     },
     "metadata": {},
     "output_type": "display_data"
    }
   ],
   "source": [
    "#Acción de ahorro; ya sea formal o informal\n",
    "ahorro<-dmpers%>%\n",
    "group_by(accion_ahorro)%>%\n",
    "summarise(personas=survey_total(vartype = \"cv\"),\n",
    "          pct=survey_prop(vartype = \"cv\"))%>%\n",
    "mutate(pct=round(pct*100,1))%>%\n",
    "janitor::adorn_totals(\"row\")\n",
    "ahorro"
   ]
  },
  {
   "cell_type": "code",
   "execution_count": 11,
   "id": "f474ea87",
   "metadata": {
    "vscode": {
     "languageId": "r"
    }
   },
   "outputs": [
    {
     "data": {
      "text/html": [
       "<table class=\"dataframe\">\n",
       "<caption>A tibble: 5 × 5</caption>\n",
       "<thead>\n",
       "\t<tr><th scope=col>equivalencia</th><th scope=col>personas</th><th scope=col>personas_cv</th><th scope=col>pct</th><th scope=col>pct_cv</th></tr>\n",
       "\t<tr><th scope=col>&lt;fct&gt;</th><th scope=col>&lt;dbl&gt;</th><th scope=col>&lt;dbl&gt;</th><th scope=col>&lt;dbl&gt;</th><th scope=col>&lt;dbl&gt;</th></tr>\n",
       "</thead>\n",
       "<tbody>\n",
       "\t<tr><td>una semana         </td><td> 6314303</td><td>0.05309771</td><td>10.4</td><td>0.05130590</td></tr>\n",
       "\t<tr><td>una quincena       </td><td> 8023234</td><td>0.04380105</td><td>13.3</td><td>0.04133318</td></tr>\n",
       "\t<tr><td>un mes             </td><td>13465908</td><td>0.03581465</td><td>22.3</td><td>0.03286855</td></tr>\n",
       "\t<tr><td>más de un mes      </td><td>23211431</td><td>0.02626869</td><td>38.4</td><td>0.02159691</td></tr>\n",
       "\t<tr><td>No sabe/No contestó</td><td> 9482786</td><td>0.04158558</td><td>15.7</td><td>0.03956993</td></tr>\n",
       "</tbody>\n",
       "</table>\n"
      ],
      "text/latex": [
       "A tibble: 5 × 5\n",
       "\\begin{tabular}{lllll}\n",
       " equivalencia & personas & personas\\_cv & pct & pct\\_cv\\\\\n",
       " <fct> & <dbl> & <dbl> & <dbl> & <dbl>\\\\\n",
       "\\hline\n",
       "\t una semana          &  6314303 & 0.05309771 & 10.4 & 0.05130590\\\\\n",
       "\t una quincena        &  8023234 & 0.04380105 & 13.3 & 0.04133318\\\\\n",
       "\t un mes              & 13465908 & 0.03581465 & 22.3 & 0.03286855\\\\\n",
       "\t más de un mes       & 23211431 & 0.02626869 & 38.4 & 0.02159691\\\\\n",
       "\t No sabe/No contestó &  9482786 & 0.04158558 & 15.7 & 0.03956993\\\\\n",
       "\\end{tabular}\n"
      ],
      "text/markdown": [
       "\n",
       "A tibble: 5 × 5\n",
       "\n",
       "| equivalencia &lt;fct&gt; | personas &lt;dbl&gt; | personas_cv &lt;dbl&gt; | pct &lt;dbl&gt; | pct_cv &lt;dbl&gt; |\n",
       "|---|---|---|---|---|\n",
       "| una semana          |  6314303 | 0.05309771 | 10.4 | 0.05130590 |\n",
       "| una quincena        |  8023234 | 0.04380105 | 13.3 | 0.04133318 |\n",
       "| un mes              | 13465908 | 0.03581465 | 22.3 | 0.03286855 |\n",
       "| más de un mes       | 23211431 | 0.02626869 | 38.4 | 0.02159691 |\n",
       "| No sabe/No contestó |  9482786 | 0.04158558 | 15.7 | 0.03956993 |\n",
       "\n"
      ],
      "text/plain": [
       "  equivalencia        personas personas_cv pct  pct_cv    \n",
       "1 una semana           6314303 0.05309771  10.4 0.05130590\n",
       "2 una quincena         8023234 0.04380105  13.3 0.04133318\n",
       "3 un mes              13465908 0.03581465  22.3 0.03286855\n",
       "4 más de un mes       23211431 0.02626869  38.4 0.02159691\n",
       "5 No sabe/No contestó  9482786 0.04158558  15.7 0.03956993"
      ]
     },
     "metadata": {},
     "output_type": "display_data"
    },
    {
     "data": {
      "image/png": "[encoded data removed]",
      "text/plain": [
       "plot without title"
      ]
     },
     "metadata": {
      "image/png": {
       "height": 420,
       "width": 420
      }
     },
     "output_type": "display_data"
    }
   ],
   "source": [
    "ahorro_ingreso<-dmpers%>%\n",
    "filter(accion_ahorro==1)%>%\n",
    "mutate(equivalencia=factor(equivalencia,\n",
    "levels=c(\"una semana\",\n",
    "\"una quincena\",\n",
    "\"un mes\",\n",
    "\"más de un mes\",\n",
    "\"No sabe/No contestó\")))%>%\n",
    "group_by(equivalencia)%>%\n",
    "summarise(personas=survey_total(vartype = \"cv\"),\n",
    "          pct=survey_prop(vartype = \"cv\"))%>%\n",
    "          mutate(pct=round(pct*100,1))\n",
    "ahorro_ingreso\n",
    "\n",
    "#Gráfico de ahorro\n",
    "ahorro_ingreso%>%\n",
    "ggplot(aes(x=equivalencia, y=pct))+\n",
    "geom_col(fill=\"#2E7D32\", width=0.5)+\n",
    "  geom_text(aes(label=paste0(pct,\"%\")), vjust=-0.5, size=4, family=\"pop\")+\n",
    "  #scale_y_continuous(breaks=seq(0,100,10), limits=c(0,70))+\n",
    "  labs(x=\"Período de ingreso cubierto por el monto ahorrado\",\n",
    "       y=\"Porcentaje\",\n",
    "       title=\"Equivalencia temporal del ahorro en relación con el ingreso de las personas de 18 años y más\",\n",
    "       subtitle=\"(Porcentaje de personas de 18 años y más que ahorran de manera formal o informal)\",\n",
    "       caption=\"Fuente: @claudiodanielpc con información de INEGI. Encuesta Nacional de Inclusión Financiera 2024\")+\n",
    "  theme_minimal()+\n",
    "  theme(text = element_text(family = \"pop\"),\n",
    "        plot.title = element_text(size=16, face=\"bold\"),\n",
    "        plot.subtitle = element_text(size=14),\n",
    "        plot.caption = element_text(size=10, hjust = 0),\n",
    "        axis.title.x = element_text(size=14),\n",
    "        axis.title.y = element_text(size=14),\n",
    "        axis.text.x = element_text(size=12, angle = 90, hjust = 1),\n",
    "        axis.text.y = element_text(size=12),\n",
    "        legend.position = \"none\")\n",
    "\n",
    "ggsave(\"equivalencia_ahorro.png\",\n",
    "       width = 12,\n",
    "       height = 8,\n",
    "       dpi = 100,\n",
    "       units = \"in\",\n",
    "       device = \"png\",\n",
    "       bg=\"white\")"
   ]
  },
  {
   "cell_type": "code",
   "execution_count": 12,
   "id": "bb4b139b",
   "metadata": {
    "vscode": {
     "languageId": "r"
    }
   },
   "outputs": [
    {
     "data": {
      "text/html": [
       "<table class=\"dataframe\">\n",
       "<caption>A tibble: 7 × 5</caption>\n",
       "<thead>\n",
       "\t<tr><th scope=col>cubre_gastos</th><th scope=col>personas</th><th scope=col>personas_cv</th><th scope=col>pct</th><th scope=col>pct_cv</th></tr>\n",
       "\t<tr><th scope=col>&lt;fct&gt;</th><th scope=col>&lt;dbl&gt;</th><th scope=col>&lt;dbl&gt;</th><th scope=col>&lt;dbl&gt;</th><th scope=col>&lt;dbl&gt;</th></tr>\n",
       "</thead>\n",
       "<tbody>\n",
       "\t<tr><td>Menos de una semana/ No tiene ahorros        </td><td>10325619</td><td>0.03930737</td><td>17.1</td><td>0.03665384</td></tr>\n",
       "\t<tr><td>Al menos una semana, pero menos de un mes    </td><td>11577025</td><td>0.03727507</td><td>19.1</td><td>0.03437843</td></tr>\n",
       "\t<tr><td>Al menos un mes, pero menos de tres meses    </td><td>19885677</td><td>0.02617965</td><td>32.9</td><td>0.02324508</td></tr>\n",
       "\t<tr><td>Al menos tres meses, pero menos de seis meses</td><td> 8076572</td><td>0.04395980</td><td>13.4</td><td>0.04140868</td></tr>\n",
       "\t<tr><td>Seis meses o más                             </td><td> 8605254</td><td>0.04316912</td><td>14.2</td><td>0.03947387</td></tr>\n",
       "\t<tr><td>No responde                                  </td><td>  209710</td><td>0.24914973</td><td> 0.3</td><td>0.24828628</td></tr>\n",
       "\t<tr><td>No aplica                                    </td><td> 1817805</td><td>0.08785795</td><td> 3.0</td><td>0.08631645</td></tr>\n",
       "</tbody>\n",
       "</table>\n"
      ],
      "text/latex": [
       "A tibble: 7 × 5\n",
       "\\begin{tabular}{lllll}\n",
       " cubre\\_gastos & personas & personas\\_cv & pct & pct\\_cv\\\\\n",
       " <fct> & <dbl> & <dbl> & <dbl> & <dbl>\\\\\n",
       "\\hline\n",
       "\t Menos de una semana/ No tiene ahorros         & 10325619 & 0.03930737 & 17.1 & 0.03665384\\\\\n",
       "\t Al menos una semana, pero menos de un mes     & 11577025 & 0.03727507 & 19.1 & 0.03437843\\\\\n",
       "\t Al menos un mes, pero menos de tres meses     & 19885677 & 0.02617965 & 32.9 & 0.02324508\\\\\n",
       "\t Al menos tres meses, pero menos de seis meses &  8076572 & 0.04395980 & 13.4 & 0.04140868\\\\\n",
       "\t Seis meses o más                              &  8605254 & 0.04316912 & 14.2 & 0.03947387\\\\\n",
       "\t No responde                                   &   209710 & 0.24914973 &  0.3 & 0.24828628\\\\\n",
       "\t No aplica                                     &  1817805 & 0.08785795 &  3.0 & 0.08631645\\\\\n",
       "\\end{tabular}\n"
      ],
      "text/markdown": [
       "\n",
       "A tibble: 7 × 5\n",
       "\n",
       "| cubre_gastos &lt;fct&gt; | personas &lt;dbl&gt; | personas_cv &lt;dbl&gt; | pct &lt;dbl&gt; | pct_cv &lt;dbl&gt; |\n",
       "|---|---|---|---|---|\n",
       "| Menos de una semana/ No tiene ahorros         | 10325619 | 0.03930737 | 17.1 | 0.03665384 |\n",
       "| Al menos una semana, pero menos de un mes     | 11577025 | 0.03727507 | 19.1 | 0.03437843 |\n",
       "| Al menos un mes, pero menos de tres meses     | 19885677 | 0.02617965 | 32.9 | 0.02324508 |\n",
       "| Al menos tres meses, pero menos de seis meses |  8076572 | 0.04395980 | 13.4 | 0.04140868 |\n",
       "| Seis meses o más                              |  8605254 | 0.04316912 | 14.2 | 0.03947387 |\n",
       "| No responde                                   |   209710 | 0.24914973 |  0.3 | 0.24828628 |\n",
       "| No aplica                                     |  1817805 | 0.08785795 |  3.0 | 0.08631645 |\n",
       "\n"
      ],
      "text/plain": [
       "  cubre_gastos                                  personas personas_cv pct \n",
       "1 Menos de una semana/ No tiene ahorros         10325619 0.03930737  17.1\n",
       "2 Al menos una semana, pero menos de un mes     11577025 0.03727507  19.1\n",
       "3 Al menos un mes, pero menos de tres meses     19885677 0.02617965  32.9\n",
       "4 Al menos tres meses, pero menos de seis meses  8076572 0.04395980  13.4\n",
       "5 Seis meses o más                               8605254 0.04316912  14.2\n",
       "6 No responde                                     209710 0.24914973   0.3\n",
       "7 No aplica                                      1817805 0.08785795   3.0\n",
       "  pct_cv    \n",
       "1 0.03665384\n",
       "2 0.03437843\n",
       "3 0.02324508\n",
       "4 0.04140868\n",
       "5 0.03947387\n",
       "6 0.24828628\n",
       "7 0.08631645"
      ]
     },
     "metadata": {},
     "output_type": "display_data"
    },
    {
     "data": {
      "image/png": "[encoded data removed]",
      "text/plain": [
       "plot without title"
      ]
     },
     "metadata": {
      "image/png": {
       "height": 420,
       "width": 420
      }
     },
     "output_type": "display_data"
    }
   ],
   "source": [
    "ahorro_gastos<-dmpers%>%\n",
    "filter(accion_ahorro==1)%>%\n",
    "mutate(cubre_gastos=factor(cubre_gastos,\n",
    "                            levels = c(\"Menos de una semana/ No tiene ahorros\",\n",
    "                                       \"Al menos una semana, pero menos de un mes\",\n",
    "                                       \"Al menos un mes, pero menos de tres meses\",\n",
    "                                       \"Al menos tres meses, pero menos de seis meses\",\n",
    "                                       \"Seis meses o más\",\n",
    "                                       \"No responde\",\n",
    "                                       \"No sabe\",\n",
    "                                       \"No aplica\")))%>%\n",
    "group_by(cubre_gastos)%>%\n",
    "summarise(personas=survey_total(vartype = \"cv\"),\n",
    "          pct=survey_prop(vartype = \"cv\"))%>%\n",
    "          mutate(pct=round(pct*100,1))\n",
    "ahorro_gastos\n",
    "\n",
    "\n",
    "#Gráfico de utilización de ahorro para gastos en caso de no tener ingresos\n",
    "ahorro_gastos%>%\n",
    "ggplot(aes(x=cubre_gastos, y=pct))+\n",
    "geom_col(fill=\"#2E7D32\", width=0.5)+\n",
    "  geom_text(aes(label=paste0(pct,\"%\")), vjust=-0.5, size=4, family=\"pop\")+\n",
    "  #scale_y_continuous(breaks=seq(0,100,10), limits=c(0,70))+\n",
    "  labs(x=\"Periodo cubierto por el ahorro en ausencia de ingreso\",\n",
    "       y=\"Porcentaje\",\n",
    "       title=\"Capacidad de cubrir gastos con ahorro en ausencia de ingresos de las personas de 18 años y más\",\n",
    "       subtitle=\"(Porcentaje de personas de 18 años y más que ahorran de manera formal o informal)\",\n",
    "       caption=\"Fuente: @claudiodanielpc con información de INEGI. Encuesta Nacional de Inclusión Financiera 2024\")+\n",
    "  theme_minimal()+\n",
    "  theme(text = element_text(family = \"pop\"),\n",
    "        plot.title = element_text(size=16, face=\"bold\"),\n",
    "        plot.subtitle = element_text(size=14),\n",
    "        plot.caption = element_text(size=10, hjust = 0),\n",
    "        axis.title.x = element_text(size=14),\n",
    "        axis.title.y = element_text(size=14),\n",
    "        axis.text.x = element_text(size=12, angle = 90, hjust = 1),\n",
    "        axis.text.y = element_text(size=12),\n",
    "        legend.position = \"none\")\n",
    "\n",
    "ggsave(\"uso_ahorro_gastos.png\",\n",
    "       width = 12,\n",
    "       height = 10,\n",
    "       dpi = 100,\n",
    "       units = \"in\",\n",
    "       device = \"png\",\n",
    "       bg=\"white\")"
   ]
  },
  {
   "cell_type": "code",
   "execution_count": 51,
   "id": "1a9a5676",
   "metadata": {
    "vscode": {
     "languageId": "r"
    }
   },
   "outputs": [
    {
     "data": {
      "text/html": [
       "<table class=\"dataframe\">\n",
       "<caption>A tibble: 4 × 5</caption>\n",
       "<thead>\n",
       "\t<tr><th scope=col>instituciones</th><th scope=col>personas</th><th scope=col>personas_cv</th><th scope=col>pct</th><th scope=col>pct_cv</th></tr>\n",
       "\t<tr><th scope=col>&lt;chr&gt;</th><th scope=col>&lt;dbl&gt;</th><th scope=col>&lt;dbl&gt;</th><th scope=col>&lt;dbl&gt;</th><th scope=col>&lt;dbl&gt;</th></tr>\n",
       "</thead>\n",
       "<tbody>\n",
       "\t<tr><td>No tiene              </td><td>15208027</td><td>0.03191802</td><td>52.5</td><td>0.02399729</td></tr>\n",
       "\t<tr><td>Imss, Issste o estatal</td><td>12798753</td><td>0.03658488</td><td>44.2</td><td>0.02827630</td></tr>\n",
       "\t<tr><td>No sabe/No contestó   </td><td>  794844</td><td>0.13840532</td><td> 2.7</td><td>0.13545652</td></tr>\n",
       "\t<tr><td>Privada               </td><td>  186977</td><td>0.25224392</td><td> 0.6</td><td>0.25183974</td></tr>\n",
       "</tbody>\n",
       "</table>\n"
      ],
      "text/latex": [
       "A tibble: 4 × 5\n",
       "\\begin{tabular}{lllll}\n",
       " instituciones & personas & personas\\_cv & pct & pct\\_cv\\\\\n",
       " <chr> & <dbl> & <dbl> & <dbl> & <dbl>\\\\\n",
       "\\hline\n",
       "\t No tiene               & 15208027 & 0.03191802 & 52.5 & 0.02399729\\\\\n",
       "\t Imss, Issste o estatal & 12798753 & 0.03658488 & 44.2 & 0.02827630\\\\\n",
       "\t No sabe/No contestó    &   794844 & 0.13840532 &  2.7 & 0.13545652\\\\\n",
       "\t Privada                &   186977 & 0.25224392 &  0.6 & 0.25183974\\\\\n",
       "\\end{tabular}\n"
      ],
      "text/markdown": [
       "\n",
       "A tibble: 4 × 5\n",
       "\n",
       "| instituciones &lt;chr&gt; | personas &lt;dbl&gt; | personas_cv &lt;dbl&gt; | pct &lt;dbl&gt; | pct_cv &lt;dbl&gt; |\n",
       "|---|---|---|---|---|\n",
       "| No tiene               | 15208027 | 0.03191802 | 52.5 | 0.02399729 |\n",
       "| Imss, Issste o estatal | 12798753 | 0.03658488 | 44.2 | 0.02827630 |\n",
       "| No sabe/No contestó    |   794844 | 0.13840532 |  2.7 | 0.13545652 |\n",
       "| Privada                |   186977 | 0.25224392 |  0.6 | 0.25183974 |\n",
       "\n"
      ],
      "text/plain": [
       "  instituciones          personas personas_cv pct  pct_cv    \n",
       "1 No tiene               15208027 0.03191802  52.5 0.02399729\n",
       "2 Imss, Issste o estatal 12798753 0.03658488  44.2 0.02827630\n",
       "3 No sabe/No contestó      794844 0.13840532   2.7 0.13545652\n",
       "4 Privada                  186977 0.25224392   0.6 0.25183974"
      ]
     },
     "metadata": {},
     "output_type": "display_data"
    },
    {
     "data": {
      "image/png": "[encoded data removed]",
      "text/plain": [
       "plot without title"
      ]
     },
     "metadata": {
      "image/png": {
       "height": 420,
       "width": 420
      }
     },
     "output_type": "display_data"
    }
   ],
   "source": [
    "seg_social<-dmpers%>%\n",
    "filter(accion_ahorro==1)%>%\n",
    "#filtrar si cubren gastos con ahorro pero por menos de tres meses\n",
    "filter(p4_10>0 & p4_10<=3)%>%\n",
    "#Filtrar ocupados\n",
    "filter(cond_ocup==\"Ocupada\")%>%\n",
    "mutate(instituciones=\n",
    "case_when((p3_13==1 | p3_13==2 | p3_13==3 | p3_13==4) ~ \"Imss, Issste o estatal\",\n",
    "          (p3_13==5 | p3_13==6) ~ \"Privada\",\n",
    "          (p3_13==7) ~ \"No tiene\",\n",
    "          TRUE ~ \"No sabe/No contestó\"))%>%\n",
    "group_by(instituciones)%>%\n",
    "summarise(personas=survey_total(vartype = \"cv\"),\n",
    "          pct=survey_prop(vartype = \"cv\"))%>%\n",
    "          mutate(pct=round(pct*100,1))%>%\n",
    "          arrange(desc(pct))\n",
    "seg_social\n",
    "\n",
    "##Gráfica de insituciones de salud\n",
    "seg_social%>%\n",
    "ggplot(aes(x=reorder(instituciones, -pct), y=pct))+\n",
    "geom_col(fill=\"#2E7D32\", width=0.5)+\n",
    "  geom_text(aes(label=paste0(pct,\"%\")), vjust=-0.5, size=4, family=\"pop\")+\n",
    "  #scale_y_continuous(breaks=seq(0,100,10), limits=c(0,70))+\n",
    "  labs(x=\"Institución de salud\",\n",
    "       y=\"Porcentaje\",\n",
    "       title=\"Acceso a servicios de salud de las personas de 18 años y más que ahorran, trabajan y\n",
    "que podrían cubrir gastos con sus ahorros por menos de tres meses\",\n",
    "       subtitle=\"(Porcentaje de personas de 18 años y más que ahorran de manera formal o informal y que trabajan)\",\n",
    "       caption=\"Fuente: @claudiodanielpc con información de INEGI. Encuesta Nacional de Inclusión Financiera 2024\")+\n",
    "  theme_minimal()+\n",
    "  theme(text = element_text(family = \"pop\"),\n",
    "        plot.title = element_text(size=16, face=\"bold\"),\n",
    "        plot.subtitle = element_text(size=14),\n",
    "        plot.caption = element_text(size=10, hjust = 0),\n",
    "        axis.title.x = element_text(size=14),\n",
    "        axis.title.y = element_text(size=14),\n",
    "        axis.text.x = element_text(size=12, angle = 90, hjust = 1),\n",
    "        axis.text.y = element_text(size=12),\n",
    "        legend.position = \"none\")\n",
    "\n",
    "ggsave(\"seg_social.png\",\n",
    "       width = 12,\n",
    "       height = 10,\n",
    "       dpi = 100,\n",
    "       units = \"in\",\n",
    "       device = \"png\",\n",
    "       bg=\"white\")"
   ]
  },
  {
   "cell_type": "code",
   "execution_count": 13,
   "id": "dea4f742",
   "metadata": {
    "vscode": {
     "languageId": "r"
    }
   },
   "outputs": [
    {
     "data": {
      "text/html": [
       "<table class=\"dataframe\">\n",
       "<caption>A tabyl: 3 × 5</caption>\n",
       "<thead>\n",
       "\t<tr><th scope=col>ahorro_inf</th><th scope=col>personas</th><th scope=col>personas_cv</th><th scope=col>pct</th><th scope=col>pct_cv</th></tr>\n",
       "\t<tr><th scope=col>&lt;chr&gt;</th><th scope=col>&lt;dbl&gt;</th><th scope=col>&lt;dbl&gt;</th><th scope=col>&lt;dbl&gt;</th><th scope=col>&lt;dbl&gt;</th></tr>\n",
       "</thead>\n",
       "<tbody>\n",
       "\t<tr><td>0    </td><td>41276574</td><td>0.0175305</td><td> 43.8</td><td>0.01494626</td></tr>\n",
       "\t<tr><td>1    </td><td>52944867</td><td>0.0156584</td><td> 56.2</td><td>0.01165232</td></tr>\n",
       "\t<tr><td>Total</td><td>94221441</td><td>0.0331889</td><td>100.0</td><td>0.02659858</td></tr>\n",
       "</tbody>\n",
       "</table>\n"
      ],
      "text/latex": [
       "A tabyl: 3 × 5\n",
       "\\begin{tabular}{lllll}\n",
       " ahorro\\_inf & personas & personas\\_cv & pct & pct\\_cv\\\\\n",
       " <chr> & <dbl> & <dbl> & <dbl> & <dbl>\\\\\n",
       "\\hline\n",
       "\t 0     & 41276574 & 0.0175305 &  43.8 & 0.01494626\\\\\n",
       "\t 1     & 52944867 & 0.0156584 &  56.2 & 0.01165232\\\\\n",
       "\t Total & 94221441 & 0.0331889 & 100.0 & 0.02659858\\\\\n",
       "\\end{tabular}\n"
      ],
      "text/markdown": [
       "\n",
       "A tabyl: 3 × 5\n",
       "\n",
       "| ahorro_inf &lt;chr&gt; | personas &lt;dbl&gt; | personas_cv &lt;dbl&gt; | pct &lt;dbl&gt; | pct_cv &lt;dbl&gt; |\n",
       "|---|---|---|---|---|\n",
       "| 0     | 41276574 | 0.0175305 |  43.8 | 0.01494626 |\n",
       "| 1     | 52944867 | 0.0156584 |  56.2 | 0.01165232 |\n",
       "| Total | 94221441 | 0.0331889 | 100.0 | 0.02659858 |\n",
       "\n"
      ],
      "text/plain": [
       "  ahorro_inf personas personas_cv pct   pct_cv    \n",
       "1 0          41276574 0.0175305    43.8 0.01494626\n",
       "2 1          52944867 0.0156584    56.2 0.01165232\n",
       "3 Total      94221441 0.0331889   100.0 0.02659858"
      ]
     },
     "metadata": {},
     "output_type": "display_data"
    }
   ],
   "source": [
    "ahorro_informal<-dmpers%>%\n",
    "group_by(ahorro_inf)%>%\n",
    "summarise(personas=survey_total(vartype = \"cv\"),\n",
    "          pct=survey_prop(vartype = \"cv\"))%>%\n",
    "mutate(pct=round(pct*100,1))%>%\n",
    "janitor::adorn_totals(\"row\")\n",
    "ahorro_informal"
   ]
  },
  {
   "cell_type": "code",
   "execution_count": 14,
   "id": "d8eb9e58",
   "metadata": {
    "vscode": {
     "languageId": "r"
    }
   },
   "outputs": [
    {
     "data": {
      "text/html": [
       "<table class=\"dataframe\">\n",
       "<caption>A tabyl: 8 × 5</caption>\n",
       "<thead>\n",
       "\t<tr><th scope=col>cubre_gastos</th><th scope=col>personas</th><th scope=col>personas_cv</th><th scope=col>pct</th><th scope=col>pct_cv</th></tr>\n",
       "\t<tr><th scope=col>&lt;fct&gt;</th><th scope=col>&lt;dbl&gt;</th><th scope=col>&lt;dbl&gt;</th><th scope=col>&lt;dbl&gt;</th><th scope=col>&lt;dbl&gt;</th></tr>\n",
       "</thead>\n",
       "<tbody>\n",
       "\t<tr><td>Menos de una semana/ No tiene ahorros        </td><td> 9328585</td><td>0.04115504</td><td> 17.6</td><td>0.03748016</td></tr>\n",
       "\t<tr><td>Al menos una semana, pero menos de un mes    </td><td>10366114</td><td>0.04025767</td><td> 19.6</td><td>0.03648238</td></tr>\n",
       "\t<tr><td>Al menos un mes, pero menos de tres meses    </td><td>17818391</td><td>0.02738570</td><td> 33.7</td><td>0.02449245</td></tr>\n",
       "\t<tr><td>Al menos tres meses, pero menos de seis meses</td><td> 6872354</td><td>0.04704020</td><td> 13.0</td><td>0.04463747</td></tr>\n",
       "\t<tr><td>Seis meses o más                             </td><td> 6929211</td><td>0.04855215</td><td> 13.1</td><td>0.04435969</td></tr>\n",
       "\t<tr><td>No responde                                  </td><td>  156762</td><td>0.30112030</td><td>  0.3</td><td>0.30043455</td></tr>\n",
       "\t<tr><td>No aplica                                    </td><td> 1473450</td><td>0.09653532</td><td>  2.8</td><td>0.09536733</td></tr>\n",
       "\t<tr><td>Total                                        </td><td>52944867</td><td>0.60204638</td><td>100.1</td><td>0.58325404</td></tr>\n",
       "</tbody>\n",
       "</table>\n"
      ],
      "text/latex": [
       "A tabyl: 8 × 5\n",
       "\\begin{tabular}{lllll}\n",
       " cubre\\_gastos & personas & personas\\_cv & pct & pct\\_cv\\\\\n",
       " <fct> & <dbl> & <dbl> & <dbl> & <dbl>\\\\\n",
       "\\hline\n",
       "\t Menos de una semana/ No tiene ahorros         &  9328585 & 0.04115504 &  17.6 & 0.03748016\\\\\n",
       "\t Al menos una semana, pero menos de un mes     & 10366114 & 0.04025767 &  19.6 & 0.03648238\\\\\n",
       "\t Al menos un mes, pero menos de tres meses     & 17818391 & 0.02738570 &  33.7 & 0.02449245\\\\\n",
       "\t Al menos tres meses, pero menos de seis meses &  6872354 & 0.04704020 &  13.0 & 0.04463747\\\\\n",
       "\t Seis meses o más                              &  6929211 & 0.04855215 &  13.1 & 0.04435969\\\\\n",
       "\t No responde                                   &   156762 & 0.30112030 &   0.3 & 0.30043455\\\\\n",
       "\t No aplica                                     &  1473450 & 0.09653532 &   2.8 & 0.09536733\\\\\n",
       "\t Total                                         & 52944867 & 0.60204638 & 100.1 & 0.58325404\\\\\n",
       "\\end{tabular}\n"
      ],
      "text/markdown": [
       "\n",
       "A tabyl: 8 × 5\n",
       "\n",
       "| cubre_gastos &lt;fct&gt; | personas &lt;dbl&gt; | personas_cv &lt;dbl&gt; | pct &lt;dbl&gt; | pct_cv &lt;dbl&gt; |\n",
       "|---|---|---|---|---|\n",
       "| Menos de una semana/ No tiene ahorros         |  9328585 | 0.04115504 |  17.6 | 0.03748016 |\n",
       "| Al menos una semana, pero menos de un mes     | 10366114 | 0.04025767 |  19.6 | 0.03648238 |\n",
       "| Al menos un mes, pero menos de tres meses     | 17818391 | 0.02738570 |  33.7 | 0.02449245 |\n",
       "| Al menos tres meses, pero menos de seis meses |  6872354 | 0.04704020 |  13.0 | 0.04463747 |\n",
       "| Seis meses o más                              |  6929211 | 0.04855215 |  13.1 | 0.04435969 |\n",
       "| No responde                                   |   156762 | 0.30112030 |   0.3 | 0.30043455 |\n",
       "| No aplica                                     |  1473450 | 0.09653532 |   2.8 | 0.09536733 |\n",
       "| Total                                         | 52944867 | 0.60204638 | 100.1 | 0.58325404 |\n",
       "\n"
      ],
      "text/plain": [
       "  cubre_gastos                                  personas personas_cv pct  \n",
       "1 Menos de una semana/ No tiene ahorros          9328585 0.04115504   17.6\n",
       "2 Al menos una semana, pero menos de un mes     10366114 0.04025767   19.6\n",
       "3 Al menos un mes, pero menos de tres meses     17818391 0.02738570   33.7\n",
       "4 Al menos tres meses, pero menos de seis meses  6872354 0.04704020   13.0\n",
       "5 Seis meses o más                               6929211 0.04855215   13.1\n",
       "6 No responde                                     156762 0.30112030    0.3\n",
       "7 No aplica                                      1473450 0.09653532    2.8\n",
       "8 Total                                         52944867 0.60204638  100.1\n",
       "  pct_cv    \n",
       "1 0.03748016\n",
       "2 0.03648238\n",
       "3 0.02449245\n",
       "4 0.04463747\n",
       "5 0.04435969\n",
       "6 0.30043455\n",
       "7 0.09536733\n",
       "8 0.58325404"
      ]
     },
     "metadata": {},
     "output_type": "display_data"
    }
   ],
   "source": [
    "ahorro_inf_gastos<-dmpers%>%\n",
    "filter(ahorro_inf==1)%>%\n",
    "mutate(cubre_gastos=factor(cubre_gastos,\n",
    "                            levels = c(\"Menos de una semana/ No tiene ahorros\",\n",
    "                                       \"Al menos una semana, pero menos de un mes\",\n",
    "                                       \"Al menos un mes, pero menos de tres meses\",\n",
    "                                       \"Al menos tres meses, pero menos de seis meses\",\n",
    "                                       \"Seis meses o más\",\n",
    "                                       \"No responde\",\n",
    "                                       \"No sabe\",\n",
    "                                       \"No aplica\")))%>%\n",
    "group_by(cubre_gastos)%>%\n",
    "summarise(personas=survey_total(vartype = \"cv\"),\n",
    "          pct=survey_prop(vartype = \"cv\"))%>%\n",
    "          mutate(pct=round(pct*100,1))%>%\n",
    "          janitor::adorn_totals(\"row\")\n",
    "\n",
    "ahorro_inf_gastos"
   ]
  },
  {
   "cell_type": "code",
   "execution_count": 15,
   "id": "71c81789",
   "metadata": {
    "vscode": {
     "languageId": "r"
    }
   },
   "outputs": [],
   "source": [
    "#A qué hogares corresponden los ahorros\n",
    "\n",
    "pers_ahorro<-modulo%>%\n",
    "select(llaveviv,llavehog,accion_ahorro)%>%\n",
    " filter(accion_ahorro == 1) %>%\n",
    "  distinct(llaveviv, llavehog, .keep_all = TRUE)\n",
    "\n",
    "\n",
    "#Pegar a la tabla de hogares\n",
    "\n",
    "hogares_ahorro<-hogares%>%\n",
    "left_join(pers_ahorro, by = c(\"llaveviv\", \"llavehog\"))\n"
   ]
  },
  {
   "cell_type": "code",
   "execution_count": 17,
   "id": "c6145061",
   "metadata": {
    "vscode": {
     "languageId": "r"
    }
   },
   "outputs": [],
   "source": [
    "dmhog<-hogares_ahorro%>%\n",
    "as_survey_design(ids = \"upm_dis\",\n",
    "            weights = \"fac_hog\",\n",
    "            strata=\"est_dis\")"
   ]
  },
  {
   "cell_type": "code",
   "execution_count": 18,
   "id": "dc8270c5",
   "metadata": {
    "vscode": {
     "languageId": "r"
    }
   },
   "outputs": [
    {
     "data": {
      "text/html": [
       "<table class=\"dataframe\">\n",
       "<caption>A tibble: 2 × 5</caption>\n",
       "<thead>\n",
       "\t<tr><th scope=col>accion_ahorro</th><th scope=col>hogares</th><th scope=col>hogares_cv</th><th scope=col>pct</th><th scope=col>pct_cv</th></tr>\n",
       "\t<tr><th scope=col>&lt;dbl&gt;</th><th scope=col>&lt;dbl&gt;</th><th scope=col>&lt;dbl&gt;</th><th scope=col>&lt;dbl&gt;</th><th scope=col>&lt;dbl&gt;</th></tr>\n",
       "</thead>\n",
       "<tbody>\n",
       "\t<tr><td> 1</td><td>25368077</td><td>0.01208065</td><td>63.8</td><td>0.008781361</td></tr>\n",
       "\t<tr><td>NA</td><td>14383050</td><td>0.01742221</td><td>36.2</td><td>0.015488108</td></tr>\n",
       "</tbody>\n",
       "</table>\n"
      ],
      "text/latex": [
       "A tibble: 2 × 5\n",
       "\\begin{tabular}{lllll}\n",
       " accion\\_ahorro & hogares & hogares\\_cv & pct & pct\\_cv\\\\\n",
       " <dbl> & <dbl> & <dbl> & <dbl> & <dbl>\\\\\n",
       "\\hline\n",
       "\t  1 & 25368077 & 0.01208065 & 63.8 & 0.008781361\\\\\n",
       "\t NA & 14383050 & 0.01742221 & 36.2 & 0.015488108\\\\\n",
       "\\end{tabular}\n"
      ],
      "text/markdown": [
       "\n",
       "A tibble: 2 × 5\n",
       "\n",
       "| accion_ahorro &lt;dbl&gt; | hogares &lt;dbl&gt; | hogares_cv &lt;dbl&gt; | pct &lt;dbl&gt; | pct_cv &lt;dbl&gt; |\n",
       "|---|---|---|---|---|\n",
       "|  1 | 25368077 | 0.01208065 | 63.8 | 0.008781361 |\n",
       "| NA | 14383050 | 0.01742221 | 36.2 | 0.015488108 |\n",
       "\n"
      ],
      "text/plain": [
       "  accion_ahorro hogares  hogares_cv pct  pct_cv     \n",
       "1  1            25368077 0.01208065 63.8 0.008781361\n",
       "2 NA            14383050 0.01742221 36.2 0.015488108"
      ]
     },
     "metadata": {},
     "output_type": "display_data"
    }
   ],
   "source": [
    "dmhog%>%\n",
    "group_by(accion_ahorro)%>%\n",
    "summarise(hogares=survey_total(vartype = \"cv\"),\n",
    "          pct=survey_prop(vartype = \"cv\"))%>%\n",
    "          mutate(pct=round(pct*100,1))"
   ]
  }
 ],
 "metadata": {
  "kernelspec": {
   "display_name": "R",
   "language": "R",
   "name": "ir"
  },
  "language_info": {
   "codemirror_mode": "r",
   "file_extension": ".r",
   "mimetype": "text/x-r-source",
   "name": "R",
   "pygments_lexer": "r",
   "version": "4.4.1"
  }
 },
 "nbformat": 4,
 "nbformat_minor": 5
}
